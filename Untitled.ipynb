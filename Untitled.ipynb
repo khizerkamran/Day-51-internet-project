{
 "cells": [
  {
   "cell_type": "code",
   "execution_count": null,
   "id": "20b9fa0d",
   "metadata": {},
   "outputs": [
    {
     "name": "stderr",
     "output_type": "stream",
     "text": [
      "<ipython-input-12-f6104b4463b2>:6: DeprecationWarning: executable_path has been deprecated, please pass in a Service object\n",
      "  driver = webdriver.Chrome(executable_path=chrome_driver_path)\n"
     ]
    }
   ],
   "source": [
    "from selenium import webdriver\n",
    "from selenium.common.exceptions import NoSuchElementException\n",
    "import time\n",
    "\n",
    "chrome_driver_path = 'F:/Develpoment/chromedriver'\n",
    "driver = webdriver.Chrome(executable_path=chrome_driver_path)\n",
    "\n",
    "\n",
    "SPEED_UP = 50\n",
    "SPEED_DOWN = 50\n",
    "TWIT_LOG = 'kizerks977@gmail.com'\n",
    "TWIT_PAS = 'khizer123456'\n",
    "\n",
    "class InternetSpeedTwitterBot():\n",
    "    def __init__(self) -> None:\n",
    "        self.driver = driver\n",
    "        self.speed_up = 0\n",
    "        self.speed_down = 0\n",
    "        self.provider_name =''\n",
    "        \n",
    "    \n",
    "    def get_internet_speed(self):\n",
    "        self.driver.get('https://www.speedtest.net/ru')\n",
    "\n",
    "        self.start_button = self.driver.find_element_by_css_selector('#container > div > div.main-content > div > div > div > div.pure-u-custom-speedtest > div.speedtest-container.main-row > div.start-button > a')\n",
    "        self.start_button.click()\n",
    "        self.provider_name = self.driver.find_element_by_xpath('//*[@id=\"container\"]/div/div[3]/div/div/div/div[2]/div[3]/div[3]/div/div[4]/div/div[2]/div/div[1]/div/div[2]').text\n",
    "        while True:   \n",
    "            try:\n",
    "                self.speed_up = self.driver.find_element_by_css_selector('#container > div > div.main-content > div > div > div > div.pure-u-custom-speedtest > div.speedtest-container.main-row > div.main-view > div > div.result-area.result-area-test > div > div > div.result-container-speed.result-container-speed-active > div.result-container-data > div.result-item-container.result-item-container-align-center > div > div.result-data.u-align-left > span').text\n",
    "                self.speed_down = self.driver.find_element_by_css_selector('#container > div > div.main-content > div > div > div > div.pure-u-custom-speedtest > div.speedtest-container.main-row > div.main-view > div > div.result-area.result-area-test > div > div > div.result-container-speed.result-container-speed-active > div.result-container-data > div.result-item-container.result-item-container-align-left > div > div.result-data.u-align-left > span').text\n",
    "                break\n",
    "            except NoSuchElementException:\n",
    "                pass\n",
    "        \n",
    "\n",
    "    def tweet_at_provider(self):\n",
    "        try:\n",
    "            self.driver.get('https://twitter.com/login')\n",
    "            self.login = self.driver.find_element_by_xpath('//*[@id=\"react-root\"]/div/div/div[2]/main/div/div/div[2]/form/div/div[1]/label/div/div[2]/div/input')\n",
    "            self.passw = self.driver.find_element_by_xpath('//*[@id=\"react-root\"]/div/div/div[2]/main/div/div/div[2]/form/div/div[2]/label/div/div[2]/div/input')\n",
    "            self.button_ok = self.driver.find_element_by_xpath('//*[@id=\"react-root\"]/div/div/div[2]/main/div/div/div[2]/form/div/div[3]/div/div')\n",
    "            self.login.send_keys(TWIT_LOG)\n",
    "            self.passw.send_keys(TWIT_PAS)\n",
    "            self.button_ok.click()\n",
    "            \n",
    "            self.twit_field = self.driver.find_element_by_css_selector('#react-root > div > div > div.css-1dbjc4n.r-18u37iz.r-13qz1uu.r-417010 > main > div > div > div > div.css-1dbjc4n.r-14lw9ot.r-1gm7m50.r-1ljd8xs.r-13l2t4g.r-1phboty.r-1jgb5lz.r-11wrixw.r-61z16t.r-1ye8kvj.r-13qz1uu.r-184en5c > div > div.css-1dbjc4n.r-14lw9ot.r-184en5c > div > div.css-1dbjc4n.r-14lw9ot.r-oyd9sg > div:nth-child(1) > div > div > div > div.css-1dbjc4n.r-1iusvr4.r-16y2uox.r-1777fci.r-1h8ys4a.r-1bylmt5.r-13tjlyg.r-7qyjyx.r-1ftll1t > div.css-1dbjc4n.r-184en5c > div > div > div > div > div > div > div > div > label > div.css-1dbjc4n.r-16y2uox.r-1wbh5a2 > div > div > div > div > div.DraftEditor-editorContainer > div')\n",
    "            self.twit_field.send_keys(f'Provider: {speed.provider_name}, measured speed: upload - {speed.speed_up}, download - {speed.speed_down}')\n",
    "            time.sleep(10)\n",
    "        except:\n",
    "            self.driver.quit()\n",
    "            time.sleep(1)\n",
    "            self.driver = driver\n",
    "                \n",
    "\n",
    "speed = InternetSpeedTwitterBot()\n",
    "\n",
    "speed.get_internet_speed()\n",
    "speed.tweet_at_provider()"
   ]
  },
  {
   "cell_type": "code",
   "execution_count": null,
   "id": "147100eb",
   "metadata": {},
   "outputs": [],
   "source": []
  }
 ],
 "metadata": {
  "kernelspec": {
   "display_name": "Python 3",
   "language": "python",
   "name": "python3"
  },
  "language_info": {
   "codemirror_mode": {
    "name": "ipython",
    "version": 3
   },
   "file_extension": ".py",
   "mimetype": "text/x-python",
   "name": "python",
   "nbconvert_exporter": "python",
   "pygments_lexer": "ipython3",
   "version": "3.8.7"
  }
 },
 "nbformat": 4,
 "nbformat_minor": 5
}
